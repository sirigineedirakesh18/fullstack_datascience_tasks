{
 "cells": [
  {
   "cell_type": "raw",
   "id": "055a1cf7",
   "metadata": {},
   "source": [
    "Todays task :\n",
    "    q1 : Try to print a prime number in between 1 to 1000\n",
    "    q2 : Try to write a function which  is equivalent  to print function in python\n",
    "    q3 : Try to write a function which is a replica of list append , extend and pop function \n",
    "    q4 : Try to write a lambda function which can return a concatination of all the string that we will pass\n",
    "    q5 : Try to write a lambda function which can return list of square of all the data between 1-100 \n",
    "    q6 : Try to write a 10 Different different example of lambda function with a choice of your taks \n",
    "    q7 : Try to wwrite a funtion whihc can perform a read operation from .txt file "
   ]
  },
  {
   "cell_type": "code",
   "execution_count": 34,
   "id": "cf55f157",
   "metadata": {},
   "outputs": [],
   "source": [
    "#q1 : Try to print a prime number in between 1 to 1000\n",
    "def prime_range(a,b):\n",
    "    for i in range(a,b):\n",
    "        if i>1:\n",
    "           for j in range(2,i):\n",
    "               if(i%j)==0:\n",
    "                   break\n",
    "           else:\n",
    "               print(i,end=' ')\n",
    "        "
   ]
  },
  {
   "cell_type": "code",
   "execution_count": 36,
   "id": "65f18836",
   "metadata": {},
   "outputs": [
    {
     "name": "stdout",
     "output_type": "stream",
     "text": [
      "2 3 5 7 11 13 17 19 23 29 31 37 41 43 47 "
     ]
    }
   ],
   "source": [
    "prime_range(1,50)"
   ]
  },
  {
   "cell_type": "code",
   "execution_count": 41,
   "id": "ac7fad09",
   "metadata": {},
   "outputs": [],
   "source": [
    "#q2 : Try to write a function which  is equivalent  to print function in python\n",
    "import logging\n",
    "def print1(*args):\n",
    "     return logging.info(args)\n"
   ]
  },
  {
   "cell_type": "code",
   "execution_count": 46,
   "id": "cc03d259",
   "metadata": {},
   "outputs": [],
   "source": [
    "print1('test',1,'print')"
   ]
  },
  {
   "cell_type": "code",
   "execution_count": 50,
   "id": "71f0588b",
   "metadata": {},
   "outputs": [],
   "source": [
    "#q3 : Try to write a function which is a replica of list append , extend and pop function\n",
    "def append1(l1,l2):\n",
    "    l1.extend([l2])\n",
    "    return l1"
   ]
  },
  {
   "cell_type": "code",
   "execution_count": 54,
   "id": "91320152",
   "metadata": {},
   "outputs": [
    {
     "name": "stdout",
     "output_type": "stream",
     "text": [
      "[1, 2, 3, [4, 5, 6]]\n"
     ]
    }
   ],
   "source": [
    "l1=[1,2,3]\n",
    "l2=[4,5,6]\n",
    "print(append1(l1,l2))"
   ]
  },
  {
   "cell_type": "code",
   "execution_count": 55,
   "id": "08ade3c8",
   "metadata": {},
   "outputs": [],
   "source": [
    "l1.append(l2)"
   ]
  },
  {
   "cell_type": "code",
   "execution_count": 57,
   "id": "a58b1d4c",
   "metadata": {},
   "outputs": [],
   "source": [
    "def extend1(l3,l4):\n",
    "    for i in l4:\n",
    "        l3.append(i)\n",
    "    return l3"
   ]
  },
  {
   "cell_type": "code",
   "execution_count": 58,
   "id": "86c1adb6",
   "metadata": {},
   "outputs": [
    {
     "data": {
      "text/plain": [
       "[3, 4, 5, 6, 7, 8]"
      ]
     },
     "execution_count": 58,
     "metadata": {},
     "output_type": "execute_result"
    }
   ],
   "source": [
    "extend1([3,4,5],[6,7,8])"
   ]
  },
  {
   "cell_type": "code",
   "execution_count": 59,
   "id": "a44a0896",
   "metadata": {},
   "outputs": [],
   "source": [
    "def pop1(l):\n",
    "    ln=[]\n",
    "    ln.append(l[-1])\n",
    "    return ln[0]"
   ]
  },
  {
   "cell_type": "code",
   "execution_count": 60,
   "id": "dc3031d4",
   "metadata": {},
   "outputs": [
    {
     "data": {
      "text/plain": [
       "6"
      ]
     },
     "execution_count": 60,
     "metadata": {},
     "output_type": "execute_result"
    }
   ],
   "source": [
    "pop1([7,8,5,6])"
   ]
  },
  {
   "cell_type": "code",
   "execution_count": 62,
   "id": "7547fcb1",
   "metadata": {},
   "outputs": [
    {
     "name": "stdout",
     "output_type": "stream",
     "text": [
      "rakesh\n"
     ]
    }
   ],
   "source": [
    "#q4 : Try to write a lambda function which can return a concatination of all the string that we will pass\n",
    "x= lambda *a: \"\".join(a)\n",
    "print(x('r','a','k','e','s','h'))\n",
    "     "
   ]
  },
  {
   "cell_type": "code",
   "execution_count": 75,
   "id": "e6c53cc1",
   "metadata": {},
   "outputs": [],
   "source": [
    "#5 : Try to write a lambda function which can return list of square of all the data between 1-100 \n",
    "l= [ i**2 for i in range(100)]\n"
   ]
  },
  {
   "cell_type": "code",
   "execution_count": 76,
   "id": "ca14e65f",
   "metadata": {},
   "outputs": [
    {
     "data": {
      "text/plain": [
       "[0,\n",
       " 1,\n",
       " 4,\n",
       " 9,\n",
       " 16,\n",
       " 25,\n",
       " 36,\n",
       " 49,\n",
       " 64,\n",
       " 81,\n",
       " 100,\n",
       " 121,\n",
       " 144,\n",
       " 169,\n",
       " 196,\n",
       " 225,\n",
       " 256,\n",
       " 289,\n",
       " 324,\n",
       " 361,\n",
       " 400,\n",
       " 441,\n",
       " 484,\n",
       " 529,\n",
       " 576,\n",
       " 625,\n",
       " 676,\n",
       " 729,\n",
       " 784,\n",
       " 841,\n",
       " 900,\n",
       " 961,\n",
       " 1024,\n",
       " 1089,\n",
       " 1156,\n",
       " 1225,\n",
       " 1296,\n",
       " 1369,\n",
       " 1444,\n",
       " 1521,\n",
       " 1600,\n",
       " 1681,\n",
       " 1764,\n",
       " 1849,\n",
       " 1936,\n",
       " 2025,\n",
       " 2116,\n",
       " 2209,\n",
       " 2304,\n",
       " 2401,\n",
       " 2500,\n",
       " 2601,\n",
       " 2704,\n",
       " 2809,\n",
       " 2916,\n",
       " 3025,\n",
       " 3136,\n",
       " 3249,\n",
       " 3364,\n",
       " 3481,\n",
       " 3600,\n",
       " 3721,\n",
       " 3844,\n",
       " 3969,\n",
       " 4096,\n",
       " 4225,\n",
       " 4356,\n",
       " 4489,\n",
       " 4624,\n",
       " 4761,\n",
       " 4900,\n",
       " 5041,\n",
       " 5184,\n",
       " 5329,\n",
       " 5476,\n",
       " 5625,\n",
       " 5776,\n",
       " 5929,\n",
       " 6084,\n",
       " 6241,\n",
       " 6400,\n",
       " 6561,\n",
       " 6724,\n",
       " 6889,\n",
       " 7056,\n",
       " 7225,\n",
       " 7396,\n",
       " 7569,\n",
       " 7744,\n",
       " 7921,\n",
       " 8100,\n",
       " 8281,\n",
       " 8464,\n",
       " 8649,\n",
       " 8836,\n",
       " 9025,\n",
       " 9216,\n",
       " 9409,\n",
       " 9604,\n",
       " 9801]"
      ]
     },
     "execution_count": 76,
     "metadata": {},
     "output_type": "execute_result"
    }
   ],
   "source": [
    "l"
   ]
  },
  {
   "cell_type": "code",
   "execution_count": null,
   "id": "663e6eaf",
   "metadata": {},
   "outputs": [],
   "source": []
  }
 ],
 "metadata": {
  "kernelspec": {
   "display_name": "Python 3 (ipykernel)",
   "language": "python",
   "name": "python3"
  },
  "language_info": {
   "codemirror_mode": {
    "name": "ipython",
    "version": 3
   },
   "file_extension": ".py",
   "mimetype": "text/x-python",
   "name": "python",
   "nbconvert_exporter": "python",
   "pygments_lexer": "ipython3",
   "version": "3.11.5"
  }
 },
 "nbformat": 4,
 "nbformat_minor": 5
}
