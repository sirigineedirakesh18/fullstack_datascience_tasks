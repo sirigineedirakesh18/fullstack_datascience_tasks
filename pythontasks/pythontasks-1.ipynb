{
 "cells": [
  {
   "cell_type": "code",
   "execution_count": 15,
   "metadata": {},
   "outputs": [
    {
     "name": "stdout",
     "output_type": "stream",
     "text": [
      "True\n",
      "False\n",
      "True\n"
     ]
    }
   ],
   "source": [
    "#Write a Python program to find a list of integers with exactly two occurrences of nineteen\n",
    "#  and at least three occurrences of five. Return True otherwise False.\n",
    "def counter(n):\n",
    "  count_19= sum([1 for i in n if i == 19])\n",
    "  count_5 =sum([1 for i in n if i == 5])\n",
    "  return count_19 == 2 and count_5 >=3\n",
    "print(counter([19, 19, 15, 5, 3, 5, 5, 2]))\n",
    "print(counter([19, 15, 15, 5, 3, 3, 5, 2]))\n",
    "print(counter([19, 19, 5, 5, 5, 5, 5]))\n"
   ]
  },
  {
   "cell_type": "code",
   "execution_count": 16,
   "metadata": {},
   "outputs": [
    {
     "name": "stdout",
     "output_type": "stream",
     "text": [
      "True\n",
      "False\n",
      "True\n",
      "False\n"
     ]
    }
   ],
   "source": [
    "#Write a Python program that accepts a list of integers and calculates the length and the fifth element.\n",
    "#  Return true if the length of the list is 8 and the fifth element occurs thrice in the said list.\n",
    "def test1(n):\n",
    "  return len(n)==8 and n.count(n[4])==3\n",
    "print(test1([19, 19, 15, 5, 5, 5, 1, 2]))\n",
    "print(test1([19, 15, 5, 7, 5, 5, 2]))\n",
    "print(test1([11, 12, 14, 13, 14, 13, 15, 14]))\n",
    "print(test1([19, 15, 11, 7, 5, 6, 2]))"
   ]
  },
  {
   "cell_type": "code",
   "execution_count": 17,
   "metadata": {},
   "outputs": [
    {
     "name": "stdout",
     "output_type": "stream",
     "text": [
      "True\n",
      "False\n",
      "True\n"
     ]
    }
   ],
   "source": [
    "#Write a Python program that accepts an integer and determines whether it is greater than 4^4 and which is 4 mod 34.\n",
    "def test2(n):\n",
    "  return n > 4**4 and n % 34 == 4\n",
    "print(test2(922))\n",
    "print(test2(914))\n",
    "print(test2(854))"
   ]
  },
  {
   "cell_type": "code",
   "execution_count": 23,
   "metadata": {},
   "outputs": [
    {
     "name": "stdout",
     "output_type": "stream",
     "text": [
      "[2, 4]\n",
      "[10, 12, 14, 16, 18, 20, 22, 24, 26, 28]\n",
      "[3, 5, 7]\n",
      "[17, 19, 21, 23, 25, 27, 29, 31, 33, 35, 37, 39, 41, 43, 45, 47, 49]\n"
     ]
    }
   ],
   "source": [
    "\"\"\"We are making n stone piles! The first pile has n stones. If n is even, then all piles have an even number of stones. \n",
    "If n is odd, all piles have an odd number of stones. Each pile must more stones than the previous pile but as few as possible.\n",
    "Write a Python program to find the number of stones in each pile.\"\"\"\n",
    "def piles(n):\n",
    "  return [i for i in range(n,3*n,2)]\n",
    "print(piles(2))\n",
    "print(piles(10))\n",
    "print(piles(3))\n",
    "print(piles(17))"
   ]
  },
  {
   "cell_type": "code",
   "execution_count": 34,
   "metadata": {},
   "outputs": [
    {
     "name": "stdout",
     "output_type": "stream",
     "text": [
      "True\n",
      "False\n",
      "False\n",
      "True\n"
     ]
    }
   ],
   "source": [
    "#Write a Python program to check the nth-1 string is a proper substring of the nth string in a given list of strings.\n",
    "def substring(n):\n",
    "  return n[len(n)-1].find(n[len(n)-2])>0\n",
    "print(substring(['a', 'abb', 'sfs', 'oo', 'de', 'sfde']))\n",
    "print(substring(['a', 'abb', 'sfs', 'oo', 'ee', 'sfde']))\n",
    "print(substring(['a', 'abb', 'sad', 'ooaaesdfe', 'sfsdfde', 'sfsd', 'sfsdf', 'qwrew']))\n",
    "print(substring(['a', 'abb', 'sad', 'ooaaesdfe', 'sfsdfde', 'sfsd', 'sfsdf', 'qwsfsdfrew']))"
   ]
  },
  {
   "cell_type": "code",
   "execution_count": 35,
   "metadata": {},
   "outputs": [
    {
     "data": {
      "text/plain": [
       "True"
      ]
     },
     "execution_count": 35,
     "metadata": {},
     "output_type": "execute_result"
    }
   ],
   "source": [
    "\"\"\"Write a Python program to test a list of one hundred integers between 0 and 999, which all differ by ten from one another. \n",
    "Return True otherwise False.\"\"\"\n",
    "def test3(n):\n",
    "  return n==[i for i in range( 0,1000,10)]\n",
    "test3([0, 10, 20, 30, 40, 50, 60, 70, 80, 90, 100, 110, 120, 130, 140, 150, 160, 170, 180, 190, 200, 210, 220, 230, 240, 250, 260, 270, 280, 290, 300, 310, 320, 330, 340, 350, 360, 370, 380, 390, 400, 410, 420, 430, 440, 450, 460, 470, 480, 490, 500, 510, 520, 530, 540, 550, 560, 570, 580, 590, 600, 610, 620, 630, 640, 650, 660, 670, 680, 690, 700, 710, 720, 730, 740, 750, 760, 770, 780, 790, 800, 810, 820, 830, 840, 850, 860, 870, 880, 890, 900, 910, 920, 930, 940, 950, 960, 970, 980, 990])"
   ]
  },
  {
   "cell_type": "code",
   "execution_count": 45,
   "metadata": {},
   "outputs": [
    {
     "name": "stdout",
     "output_type": "stream",
     "text": [
      "True\n"
     ]
    }
   ],
   "source": [
    "#Write a Python program to check a given list of integers where the sum of the first i integers is i.\n",
    "def test4(n):\n",
    "   for i in range(len(n)):\n",
    "      return sum(n[0:i])==i\n",
    "print(test4([1, 1, 1, 1, 1, 1, 1, 1]))\n"
   ]
  },
  {
   "cell_type": "code",
   "execution_count": 52,
   "metadata": {},
   "outputs": [
    {
     "data": {
      "text/plain": [
       "['((()()()))', '(())', '()']"
      ]
     },
     "execution_count": 52,
     "metadata": {},
     "output_type": "execute_result"
    }
   ],
   "source": [
    "\"\"\"Given a string consisting of whitespace and groups of matched parentheses, \n",
    "write a Python program to split it into groups of perfectly matched parentheses without any whitespace\"\"\"\n",
    "def test5(n):\n",
    "  return [i for i in n.split() if i.count('(')==i.count(')')]\n",
    "test5(\"( ()) ((()()())) (()) ()\")"
   ]
  },
  {
   "cell_type": "code",
   "execution_count": 65,
   "metadata": {},
   "outputs": [
    {
     "data": {
      "text/plain": [
       "True"
      ]
     },
     "execution_count": 65,
     "metadata": {},
     "output_type": "execute_result"
    }
   ],
   "source": [
    "\"\"\"Write a Python program to find a list of integers containing exactly four distinct values,\n",
    " such that no integer repeats twice consecutively among the first twenty entries.\"\"\"\n",
    "def test6(n):\n",
    "   return len(set(n))==4 and all(n[i]!= n[i-1] for i in range(len(n)-1))\n",
    "test6([1, 2, 3, 4, 1, 2, 3, 4, 1, 2, 3, 4, 1, 2, 3, 4])"
   ]
  },
  {
   "cell_type": "code",
   "execution_count": null,
   "metadata": {},
   "outputs": [],
   "source": []
  }
 ],
 "metadata": {
  "kernelspec": {
   "display_name": "Python 3",
   "language": "python",
   "name": "python3"
  },
  "language_info": {
   "codemirror_mode": {
    "name": "ipython",
    "version": 3
   },
   "file_extension": ".py",
   "mimetype": "text/x-python",
   "name": "python",
   "nbconvert_exporter": "python",
   "pygments_lexer": "ipython3",
   "version": "3.13.1"
  }
 },
 "nbformat": 4,
 "nbformat_minor": 2
}
