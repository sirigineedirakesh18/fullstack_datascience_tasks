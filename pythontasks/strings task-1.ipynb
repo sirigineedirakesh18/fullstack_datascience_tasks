{
 "cells": [
  {
   "cell_type": "raw",
   "id": "de774a7f",
   "metadata": {},
   "source": [
    "s = \"this is My First Python programming class and i am learNING python string and its function\"\n",
    "1 . Try to extract data from index one to index 300 with a jump of 3 \n",
    "2. Try to reverse a string without using reverse function \n",
    "3. Try to split a string after conversion of entire string in uppercase \n",
    "4. try to convert the whole string into lower case \n",
    "5 . Try to capitalize the whole string \n",
    "6 . Write a difference between isalnum() and isalpha()\n",
    "7. Try to give an example of expand tab\n",
    "8 . Give an example of strip , lstrip and rstrip \n",
    "9.  Replace a string character by another character by taking your own example \n",
    "\"sudhanshu\"\n",
    "10 . Try  to give a definition of string center function with and example \n",
    "11 . Write your own definition of compiler and interpretor without copy paste form internet in your own language\n",
    "12 . Python is a interpreted or compiled language give a clear ans with your understanding \n",
    "13 . Try to write a usecase of python with your understanding .\n"
   ]
  },
  {
   "cell_type": "markdown",
   "id": "f219ab3b",
   "metadata": {},
   "source": [
    "1 . Try to extract data from index one to index 300 with a jump of 3"
   ]
  },
  {
   "cell_type": "code",
   "execution_count": 1,
   "id": "7ad26420",
   "metadata": {},
   "outputs": [
    {
     "data": {
      "text/plain": [
       "'h   r tnrrmglsnimeNGyosi dtfco'"
      ]
     },
     "execution_count": 1,
     "metadata": {},
     "output_type": "execute_result"
    }
   ],
   "source": [
    "s = \"this is My First Python programming class and i am learNING python string and its function\"\n",
    "s[1:300:3]"
   ]
  },
  {
   "cell_type": "markdown",
   "id": "19ad3543",
   "metadata": {},
   "source": [
    "2. Try to reverse a string without using reverse function"
   ]
  },
  {
   "cell_type": "code",
   "execution_count": 2,
   "id": "ca3f7da7",
   "metadata": {},
   "outputs": [
    {
     "data": {
      "text/plain": [
       "'noitcnuf sti dna gnirts nohtyp GNINrael ma i dna ssalc gnimmargorp nohtyP tsriF yM si siht'"
      ]
     },
     "execution_count": 2,
     "metadata": {},
     "output_type": "execute_result"
    }
   ],
   "source": [
    "s[::-1]"
   ]
  },
  {
   "cell_type": "markdown",
   "id": "6daa7e9d",
   "metadata": {},
   "source": [
    "3. Try to split a string after conversion of entire string in uppercase"
   ]
  },
  {
   "cell_type": "code",
   "execution_count": 4,
   "id": "b740d601",
   "metadata": {},
   "outputs": [
    {
     "data": {
      "text/plain": [
       "['THIS',\n",
       " 'IS',\n",
       " 'MY',\n",
       " 'FIRST',\n",
       " 'PYTHON',\n",
       " 'PROGRAMMING',\n",
       " 'CLASS',\n",
       " 'AND',\n",
       " 'I',\n",
       " 'AM',\n",
       " 'LEARNING',\n",
       " 'PYTHON',\n",
       " 'STRING',\n",
       " 'AND',\n",
       " 'ITS',\n",
       " 'FUNCTION']"
      ]
     },
     "execution_count": 4,
     "metadata": {},
     "output_type": "execute_result"
    }
   ],
   "source": [
    "s.upper().split(' ')"
   ]
  },
  {
   "cell_type": "markdown",
   "id": "9075b4a6",
   "metadata": {},
   "source": [
    "4. try to convert the whole string into lower case"
   ]
  },
  {
   "cell_type": "code",
   "execution_count": 5,
   "id": "f50d3aad",
   "metadata": {},
   "outputs": [
    {
     "data": {
      "text/plain": [
       "'this is my first python programming class and i am learning python string and its function'"
      ]
     },
     "execution_count": 5,
     "metadata": {},
     "output_type": "execute_result"
    }
   ],
   "source": [
    "s.lower()"
   ]
  },
  {
   "cell_type": "markdown",
   "id": "5782ab4a",
   "metadata": {},
   "source": [
    "5 . Try to capitalize the whole string"
   ]
  },
  {
   "cell_type": "code",
   "execution_count": 13,
   "id": "7e73d5c2",
   "metadata": {},
   "outputs": [
    {
     "data": {
      "text/plain": [
       "'This is my first python programming class and i am learning python string and its function'"
      ]
     },
     "execution_count": 13,
     "metadata": {},
     "output_type": "execute_result"
    }
   ],
   "source": [
    "#for capitalizing first letter\n",
    "s.capitalize()"
   ]
  },
  {
   "cell_type": "code",
   "execution_count": 12,
   "id": "b1ef662e",
   "metadata": {},
   "outputs": [
    {
     "data": {
      "text/plain": [
       "'This Is My First Python Programming Class And I Am Learning Python String And Its Function'"
      ]
     },
     "execution_count": 12,
     "metadata": {},
     "output_type": "execute_result"
    }
   ],
   "source": [
    "#for capitalizing whole string\n",
    "s.title()"
   ]
  },
  {
   "cell_type": "markdown",
   "id": "3edd09a4",
   "metadata": {},
   "source": [
    "6 . Write a difference between isalnum() and isalpha()"
   ]
  },
  {
   "cell_type": "markdown",
   "id": "6d92c075",
   "metadata": {},
   "source": [
    "ans: is alnum() returns true if the string has either alphabet or number but isalpha returns true only if the string is alphabet"
   ]
  },
  {
   "cell_type": "markdown",
   "id": "ee025f17",
   "metadata": {},
   "source": [
    "7.Try to give an example of expand tab"
   ]
  },
  {
   "cell_type": "code",
   "execution_count": 35,
   "id": "63eb54d5",
   "metadata": {},
   "outputs": [
    {
     "data": {
      "text/plain": [
       "'absshh      sgsgsgh     jklkl'"
      ]
     },
     "execution_count": 35,
     "metadata": {},
     "output_type": "execute_result"
    }
   ],
   "source": [
    "a=\"absshh\\tsgsgsgh\\tjklkl\"\n",
    "a.expandtabs(12)\n"
   ]
  },
  {
   "cell_type": "markdown",
   "id": "bdc10eed",
   "metadata": {},
   "source": [
    "8 . Give an example of strip , lstrip and rstrip "
   ]
  },
  {
   "cell_type": "code",
   "execution_count": 37,
   "id": "733fffda",
   "metadata": {},
   "outputs": [
    {
     "data": {
      "text/plain": [
       "'rakesh'"
      ]
     },
     "execution_count": 37,
     "metadata": {},
     "output_type": "execute_result"
    }
   ],
   "source": [
    "b='        rakesh       '\n",
    "b.strip()"
   ]
  },
  {
   "cell_type": "code",
   "execution_count": 38,
   "id": "c5167150",
   "metadata": {},
   "outputs": [
    {
     "data": {
      "text/plain": [
       "'rakesh       '"
      ]
     },
     "execution_count": 38,
     "metadata": {},
     "output_type": "execute_result"
    }
   ],
   "source": [
    "b.lstrip()"
   ]
  },
  {
   "cell_type": "code",
   "execution_count": 39,
   "id": "572b830a",
   "metadata": {},
   "outputs": [
    {
     "data": {
      "text/plain": [
       "'        rakesh'"
      ]
     },
     "execution_count": 39,
     "metadata": {},
     "output_type": "execute_result"
    }
   ],
   "source": [
    "b.rstrip()"
   ]
  },
  {
   "cell_type": "markdown",
   "id": "7cb94042",
   "metadata": {},
   "source": [
    "9.  Replace a string character by another character by taking your own example"
   ]
  },
  {
   "cell_type": "code",
   "execution_count": 40,
   "id": "32c8e4e0",
   "metadata": {},
   "outputs": [
    {
     "data": {
      "text/plain": [
       "'rikeshi'"
      ]
     },
     "execution_count": 40,
     "metadata": {},
     "output_type": "execute_result"
    }
   ],
   "source": [
    "m=\"rakesha\"\n",
    "m.replace('a','i')"
   ]
  },
  {
   "cell_type": "code",
   "execution_count": 41,
   "id": "45ec4b91",
   "metadata": {},
   "outputs": [
    {
     "data": {
      "text/plain": [
       "'rikesha'"
      ]
     },
     "execution_count": 41,
     "metadata": {},
     "output_type": "execute_result"
    }
   ],
   "source": [
    "m.replace('a','i',1)"
   ]
  },
  {
   "cell_type": "markdown",
   "id": "b55e9685",
   "metadata": {},
   "source": [
    "10 . Try  to give a definition of string center function with and example"
   ]
  },
  {
   "cell_type": "code",
   "execution_count": 43,
   "id": "2cd669c4",
   "metadata": {},
   "outputs": [
    {
     "data": {
      "text/plain": [
       "'zzrakeshazz'"
      ]
     },
     "execution_count": 43,
     "metadata": {},
     "output_type": "execute_result"
    }
   ],
   "source": [
    "m.center(11,'z')\n",
    "#center method is used to make the string center with first parameter as count of string and second parameter is the character that makes string as center"
   ]
  },
  {
   "cell_type": "markdown",
   "id": "2d7788cc",
   "metadata": {},
   "source": [
    "11. Write your own definition of compiler and interpretor without copy paste form internet in your own language\n",
    "\n",
    "compiler: compiler processes the whole source code or High level language into machine level language completely \n",
    "    in a single go so the execution will be very fast but debugging the error is very slow compared to interpreter\n",
    "interpreter: Interpreter processes the high level languages into machine level language line by line\n",
    "    but not completely in one go there by the execution will be slow when compared to the compiler but debugging \n",
    "    the errors would be fast and easy"
   ]
  },
  {
   "cell_type": "raw",
   "id": "eb594027",
   "metadata": {},
   "source": [
    "12. Python is a interpreted or compiled language give a clear ans with your understanding \n",
    "ans: python is interpreted language but often it is considered as both compiled and interpreted language because\n",
    "  1. python source code is compiled to byte code by interpreter\n",
    "  2.then the byte code is executed by python interpretor \n",
    "  so its both compiled and interpreted language"
   ]
  },
  {
   "cell_type": "markdown",
   "id": "61b23bcb",
   "metadata": {},
   "source": [
    "13 . Try to write a usecase of python with your understanding .\n",
    "\n",
    "we can convert the irregular word writings and sentences writing in a document into ordered one by using string methods such as upper,lower,title,capitalize."
   ]
  },
  {
   "cell_type": "code",
   "execution_count": null,
   "id": "e4e2c99d",
   "metadata": {},
   "outputs": [],
   "source": []
  }
 ],
 "metadata": {
  "kernelspec": {
   "display_name": "Python 3 (ipykernel)",
   "language": "python",
   "name": "python3"
  },
  "language_info": {
   "codemirror_mode": {
    "name": "ipython",
    "version": 3
   },
   "file_extension": ".py",
   "mimetype": "text/x-python",
   "name": "python",
   "nbconvert_exporter": "python",
   "pygments_lexer": "ipython3",
   "version": "3.11.5"
  }
 },
 "nbformat": 4,
 "nbformat_minor": 5
}
