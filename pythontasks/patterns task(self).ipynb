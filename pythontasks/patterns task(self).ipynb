{
 "cells": [
  {
   "cell_type": "code",
   "execution_count": 101,
   "id": "fc6e64f6",
   "metadata": {},
   "outputs": [
    {
     "name": "stdout",
     "output_type": "stream",
     "text": [
      "* * * *   \n",
      "*       * \n",
      "*       * \n",
      "* * * *   \n",
      "*       * \n",
      "*       * \n",
      "*       * \n",
      "          \n",
      "  * * *   \n",
      "*       * \n",
      "*       * \n",
      "* * * * * \n",
      "*       * \n",
      "*       * \n",
      "*     * \n",
      "*   *   \n",
      "* *     \n",
      "*       \n",
      "* *     \n",
      "*   *   \n",
      "*     * \n"
     ]
    }
   ],
   "source": [
    "for row in range(7):\n",
    "    for col in range(5):\n",
    "        if (col==0) or (col==4 and (row!=0) and (row!=3)) or ((row==0 or row==3) and (col>0 and col<4)):\n",
    "            print('*',end=' ')\n",
    "        else:\n",
    "            print(' ',end=' ')\n",
    "    print()\n",
    "for row in range(7):\n",
    "    for col in range(5):\n",
    "        if((col==0 or col==4 )and (row >1)) or row==4 or (row==1 and (col>0 and col<4))  :\n",
    "            print('*', end=' ')\n",
    "        else:\n",
    "            print(' ',end=' ')\n",
    "    print()\n",
    "    \n",
    "for row in range(7):\n",
    "    for col in range(4):\n",
    "        if (col==0) or row + col==3 or row - col==3:\n",
    "             print('*', end=' ')\n",
    "        else:\n",
    "            print(' ',end=' ')\n",
    "    print()\n",
    "\n",
    "    "
   ]
  },
  {
   "cell_type": "code",
   "execution_count": 99,
   "id": "78223e0d",
   "metadata": {},
   "outputs": [
    {
     "name": "stdout",
     "output_type": "stream",
     "text": [
      "*     * \n",
      "*   *   \n",
      "* *     \n",
      "*       \n",
      "* *     \n",
      "*   *   \n",
      "*     * \n"
     ]
    }
   ],
   "source": [
    "\n",
    "\n",
    "\n",
    "\n",
    "\n",
    "\n"
   ]
  },
  {
   "cell_type": "code",
   "execution_count": null,
   "id": "abb4f138",
   "metadata": {},
   "outputs": [],
   "source": []
  }
 ],
 "metadata": {
  "kernelspec": {
   "display_name": "Python 3 (ipykernel)",
   "language": "python",
   "name": "python3"
  },
  "language_info": {
   "codemirror_mode": {
    "name": "ipython",
    "version": 3
   },
   "file_extension": ".py",
   "mimetype": "text/x-python",
   "name": "python",
   "nbconvert_exporter": "python",
   "pygments_lexer": "ipython3",
   "version": "3.11.5"
  }
 },
 "nbformat": 4,
 "nbformat_minor": 5
}
