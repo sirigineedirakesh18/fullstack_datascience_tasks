{
 "cells": [
  {
   "cell_type": "raw",
   "id": "5051d810",
   "metadata": {},
   "source": [
    "q1 :\n",
    "ineruon \n",
    "ineruon ineruon \n",
    "ineruon ineruon ineruon\n",
    "ineruon ineruon ineruon ineruon\n",
    "\n",
    "q2 - \n",
    "\n",
    "          ineruon\n",
    "    ineruon      ineruon\n",
    "ineruon\t\tineruon \tineruon\n",
    "\tineruon\t\t ineruon\n",
    "\t\t  ineruon\n",
    "\n",
    "l = [[1,2,3,4] , (2,3,4,5,6) , (3,4,5,6,7) , set([23,4,5,45,4,4,5,45,45,4,5]) , {'k1' :\"sudh\" , \"k2\" : \"ineuron\",\"k3\":\n",
    "            \"kumar\" , 3:6 , 7:8} , [\"ineuron\" , \"data science \"]]\n",
    "\n",
    "q3 : Try to extract all the list entity \n",
    "q4 : Try to extract all the dict enteties\n",
    "q5 : Try to extract all the tuples entities\n",
    "q6 : Try to extract all the numerical data it may b a part of dict key and values \n",
    "q7 : Try to give summation of all the numeric data \n",
    "q8 : Try to filter out all the odd values out all numeric data which is a part of a list \n",
    "q9 : Try to extract \"ineuron\" out of this data\n",
    "q10 :Try to find out a number of occurances of all the data \n",
    "q11 : Try to find out number of keys in dict element\n",
    "q12 : Try to filter out all the string data \n",
    "q13 : Try to Find  out alphanum in data\n",
    "q14 : Try to find out multiplication of all numeric value in  the individual collection inside dataset \n",
    "q15 : Try to unwrape all the collection inside collection and create a flat list \n",
    "    \n",
    "    "
   ]
  },
  {
   "cell_type": "raw",
   "id": "d3ea9d06",
   "metadata": {},
   "source": [
    "q1 :\n",
    "ineruon \n",
    "ineruon ineruon \n",
    "ineruon ineruon ineruon\n",
    "ineruon ineruon ineruon ineruon"
   ]
  },
  {
   "cell_type": "code",
   "execution_count": 6,
   "id": "03ece3c6",
   "metadata": {},
   "outputs": [
    {
     "name": "stdout",
     "output_type": "stream",
     "text": [
      "enter number of rows:4\n",
      "\n",
      "ineuron\t\n",
      "ineuron\tineuron\t\n",
      "ineuron\tineuron\tineuron\t\n",
      "ineuron\tineuron\tineuron\tineuron\t\n"
     ]
    }
   ],
   "source": [
    "n=int(input('enter number of rows:'))\n",
    "for i in range(n+1):\n",
    "    for j in range(i):\n",
    "        print('ineuron',end='\\t')\n",
    "    print()"
   ]
  },
  {
   "cell_type": "raw",
   "id": "796aff4b",
   "metadata": {},
   "source": [
    "q2 - \n",
    "\n",
    "          ineruon\n",
    "    ineruon      ineruon\n",
    "ineruon\t   ineruon \tineruon\n",
    "\tineruon\t\t ineruon\n",
    "\t\t  ineruon"
   ]
  },
  {
   "cell_type": "code",
   "execution_count": 25,
   "id": "86499141",
   "metadata": {},
   "outputs": [
    {
     "name": "stdout",
     "output_type": "stream",
     "text": [
      "enter number of rows:5\n",
      "              ineuron              \n",
      "       ineuron       ineuron       \n",
      "ineuron       ineuron       ineuron\n",
      "       ineuron       ineuron       \n",
      "              ineuron              \n"
     ]
    }
   ],
   "source": [
    "n=int(input('enter number of rows:'))\n",
    "for i in range(n):\n",
    "    for j in range(n):\n",
    "        if (j-i==(n-1)/2) or (i-j==(n-1)/2) or (i==j) and i!=0 and i!=(n-1):\n",
    "            print('ineuron', end='')\n",
    "        else:\n",
    "            print(' '*len(\"ineuron\"), end='')\n",
    "    print()"
   ]
  },
  {
   "cell_type": "code",
   "execution_count": 26,
   "id": "b73b13d5",
   "metadata": {},
   "outputs": [],
   "source": [
    "l = [[1,2,3,4] , (2,3,4,5,6) , (3,4,5,6,7) , set([23,4,5,45,4,4,5,45,45,4,5]) , {'k1' :\"sudh\" , \"k2\" : \"ineuron\",\"k3\":\n",
    "            \"kumar\" , 3:6 , 7:8} , [\"ineuron\" , \"data science \"]]"
   ]
  },
  {
   "cell_type": "raw",
   "id": "7a475d14",
   "metadata": {},
   "source": [
    "q3 : Try to extract all the list entity "
   ]
  },
  {
   "cell_type": "code",
   "execution_count": 27,
   "id": "07987aa0",
   "metadata": {},
   "outputs": [
    {
     "name": "stdout",
     "output_type": "stream",
     "text": [
      "[1, 2, 3, 4]\n",
      "['ineuron', 'data science ']\n"
     ]
    }
   ],
   "source": [
    "for i in l:\n",
    "    if type(i)==list:\n",
    "        print(i)"
   ]
  },
  {
   "cell_type": "code",
   "execution_count": 28,
   "id": "755ad5ad",
   "metadata": {},
   "outputs": [
    {
     "name": "stdout",
     "output_type": "stream",
     "text": [
      "{'k1': 'sudh', 'k2': 'ineuron', 'k3': 'kumar', 3: 6, 7: 8}\n"
     ]
    }
   ],
   "source": [
    "#q4 : Try to extract all the dict enteties\n",
    "for i in l:\n",
    "    if type(i)==dict:\n",
    "        print(i)"
   ]
  },
  {
   "cell_type": "code",
   "execution_count": 29,
   "id": "b41e8c9d",
   "metadata": {},
   "outputs": [
    {
     "name": "stdout",
     "output_type": "stream",
     "text": [
      "(2, 3, 4, 5, 6)\n",
      "(3, 4, 5, 6, 7)\n"
     ]
    }
   ],
   "source": [
    "#q5 : Try to extract all the tuples entities\n",
    "for i in l:\n",
    "    if type(i)==tuple:\n",
    "        print(i)"
   ]
  },
  {
   "cell_type": "code",
   "execution_count": 30,
   "id": "7cc2b4ed",
   "metadata": {},
   "outputs": [
    {
     "data": {
      "text/plain": [
       "[[1, 2, 3, 4],\n",
       " (2, 3, 4, 5, 6),\n",
       " (3, 4, 5, 6, 7),\n",
       " {4, 5, 23, 45},\n",
       " {'k1': 'sudh', 'k2': 'ineuron', 'k3': 'kumar', 3: 6, 7: 8},\n",
       " ['ineuron', 'data science ']]"
      ]
     },
     "execution_count": 30,
     "metadata": {},
     "output_type": "execute_result"
    }
   ],
   "source": [
    "#q6 : Try to extract all the numerical data it may be a part of dict key and values \n",
    "l"
   ]
  },
  {
   "cell_type": "code",
   "execution_count": 44,
   "id": "ffeb53e1",
   "metadata": {},
   "outputs": [
    {
     "name": "stdout",
     "output_type": "stream",
     "text": [
      "1\n",
      "2\n",
      "3\n",
      "4\n",
      "2\n",
      "3\n",
      "4\n",
      "5\n",
      "6\n",
      "3\n",
      "4\n",
      "5\n",
      "6\n",
      "7\n",
      "45\n",
      "4\n",
      "5\n",
      "23\n",
      "3\n",
      "6\n",
      "7\n",
      "8\n",
      "[1, 2, 3, 4, 2, 3, 4, 5, 6, 3, 4, 5, 6, 7, 45, 4, 5, 23, 3, 6, 7, 8]\n"
     ]
    }
   ],
   "source": [
    "l1=[]\n",
    "for i in l:\n",
    "    if type(i)==tuple or type(i)==list or type(i)== set:\n",
    "        for j in i:\n",
    "            if type(j)==int:\n",
    "                print(j)\n",
    "                l1.append(j)\n",
    "    if type(i)== dict:\n",
    "        for j,k in i.items():\n",
    "            if type(j)==int:\n",
    "                print(j)\n",
    "                l1.append(j)\n",
    "            if type(k)==int:\n",
    "                print(k)\n",
    "                l1.append(k)\n",
    "print(l1)"
   ]
  },
  {
   "cell_type": "code",
   "execution_count": 45,
   "id": "6b5d0c6b",
   "metadata": {},
   "outputs": [],
   "source": [
    "#q7 : Try to give summation of all the numeric data \n",
    "\n",
    "l2=sum(l1)\n"
   ]
  },
  {
   "cell_type": "code",
   "execution_count": 48,
   "id": "d27b6da3",
   "metadata": {},
   "outputs": [
    {
     "data": {
      "text/plain": [
       "156"
      ]
     },
     "execution_count": 48,
     "metadata": {},
     "output_type": "execute_result"
    }
   ],
   "source": [
    "l2\n"
   ]
  },
  {
   "cell_type": "code",
   "execution_count": 49,
   "id": "b0d381ce",
   "metadata": {},
   "outputs": [
    {
     "data": {
      "text/plain": [
       "[1, 2, 3, 4, 2, 3, 4, 5, 6, 3, 4, 5, 6, 7, 45, 4, 5, 23, 3, 6, 7, 8]"
      ]
     },
     "execution_count": 49,
     "metadata": {},
     "output_type": "execute_result"
    }
   ],
   "source": [
    "l1"
   ]
  },
  {
   "cell_type": "code",
   "execution_count": 51,
   "id": "c73bb29c",
   "metadata": {},
   "outputs": [
    {
     "name": "stdout",
     "output_type": "stream",
     "text": [
      "1 3 3 5 3 5 7 45 5 23 3 7 "
     ]
    }
   ],
   "source": [
    "#q8 : Try to filter out all the odd values out of all numeric data which is a part of a list \n",
    "for i in l1:\n",
    "    if i%2==1:\n",
    "        print(i,end=' ')"
   ]
  },
  {
   "cell_type": "code",
   "execution_count": 52,
   "id": "d6d00811",
   "metadata": {},
   "outputs": [
    {
     "data": {
      "text/plain": [
       "[[1, 2, 3, 4],\n",
       " (2, 3, 4, 5, 6),\n",
       " (3, 4, 5, 6, 7),\n",
       " {4, 5, 23, 45},\n",
       " {'k1': 'sudh', 'k2': 'ineuron', 'k3': 'kumar', 3: 6, 7: 8},\n",
       " ['ineuron', 'data science ']]"
      ]
     },
     "execution_count": 52,
     "metadata": {},
     "output_type": "execute_result"
    }
   ],
   "source": [
    "#q9 : Try to extract \"ineuron\" out of this data\n",
    "l"
   ]
  },
  {
   "cell_type": "code",
   "execution_count": 54,
   "id": "af41548a",
   "metadata": {},
   "outputs": [
    {
     "name": "stdout",
     "output_type": "stream",
     "text": [
      "ineuron\n",
      "ineuron\n"
     ]
    }
   ],
   "source": [
    "for i in l:\n",
    "    if type(i)==tuple or type(i)==list or type(i)== set:\n",
    "        for j in i:\n",
    "            if j==\"ineuron\":\n",
    "                print(j)\n",
    "    if type(i)==dict:\n",
    "        for j,k in i.items():\n",
    "            if j==\"ineuron\":\n",
    "                print(j)\n",
    "            if k==\"ineuron\":\n",
    "                print(k)\n",
    "            "
   ]
  },
  {
   "cell_type": "code",
   "execution_count": 61,
   "id": "454c05da",
   "metadata": {},
   "outputs": [],
   "source": [
    "#q10 :Try to find out a number of occurances of all the data\n",
    "lo=l1.copy()"
   ]
  },
  {
   "cell_type": "code",
   "execution_count": 62,
   "id": "19572d1d",
   "metadata": {},
   "outputs": [
    {
     "name": "stdout",
     "output_type": "stream",
     "text": [
      "1 1\n",
      "2 2\n",
      "3 4\n",
      "4 4\n",
      "5 3\n",
      "6 3\n",
      "7 2\n",
      "8 1\n",
      "kumar 1\n",
      "ineuron 2\n",
      "k2 1\n",
      "45 1\n",
      "k3 1\n",
      "sudh 1\n",
      "23 1\n",
      "k1 1\n",
      "data science  1\n"
     ]
    }
   ],
   "source": [
    "lo\n",
    "for i in l:\n",
    "    if type(i)==str:\n",
    "        lo.append(i)\n",
    "    if type(i)==tuple or type(i)==list or type(i)== set:\n",
    "        for j in i:\n",
    "            if type(j)==str:\n",
    "                lo.append(j)\n",
    "    if type(i)== dict:\n",
    "        for j,k in i.items():\n",
    "            if type(j)==str:\n",
    "                lo.append(j)\n",
    "            if type(k)==str:\n",
    "                lo.append(k)\n",
    "for i in set(lo):\n",
    "    print(i, lo.count(i))"
   ]
  },
  {
   "cell_type": "code",
   "execution_count": 66,
   "id": "7a627886",
   "metadata": {},
   "outputs": [
    {
     "name": "stdout",
     "output_type": "stream",
     "text": [
      "5\n"
     ]
    }
   ],
   "source": [
    "#q11 : Try to find out number of keys in dict element\n",
    "for i in l:\n",
    "    if type(i)==dict:\n",
    "        print(len(i))"
   ]
  },
  {
   "cell_type": "code",
   "execution_count": 70,
   "id": "ddc614c2",
   "metadata": {},
   "outputs": [
    {
     "name": "stdout",
     "output_type": "stream",
     "text": [
      "k1 sudh k2 ineuron k3 kumar ineuron data science  "
     ]
    }
   ],
   "source": [
    "#q12 : Try to filter out all the string data \n",
    "for i in lo:\n",
    "    if type(i)==str:\n",
    "        print(i,end=' ')"
   ]
  },
  {
   "cell_type": "code",
   "execution_count": 72,
   "id": "1a93047c",
   "metadata": {},
   "outputs": [
    {
     "name": "stdout",
     "output_type": "stream",
     "text": [
      "1 2 3 4 2 3 4 5 6 3 4 5 6 7 45 4 5 23 3 6 7 8 k1 sudh k2 ineuron k3 kumar ineuron "
     ]
    }
   ],
   "source": [
    "#q13 : Try to Find  out alphanum in data\n",
    "for i in lo:\n",
    "    if str(i).isalnum()== True:\n",
    "        print(i,end=' ')"
   ]
  },
  {
   "cell_type": "code",
   "execution_count": 108,
   "id": "0d63677a",
   "metadata": {},
   "outputs": [
    {
     "name": "stdout",
     "output_type": "stream",
     "text": [
      "24\n",
      "720\n",
      "2520\n",
      "20700\n",
      "1008\n"
     ]
    }
   ],
   "source": [
    "#q14 : Try to find out multiplication of all numeric value in  the individual collection inside dataset ?\n",
    "ld=[]\n",
    "for i in l:\n",
    "    result=1\n",
    "    if type(i)==tuple or type(i)==list or type(i)== set:\n",
    "        for j in i:\n",
    "            if type(j)==int:\n",
    "                result=result*j\n",
    "        print(result)\n",
    "    if type(i)== dict:\n",
    "        for j,k in i.items():\n",
    "            if type(j)==int:\n",
    "                ld.append(j)\n",
    "            if type(k)==int:\n",
    "                ld.append(k)\n",
    "        break;\n",
    "p=1\n",
    "for i in ld:  \n",
    "    p=p*i\n",
    "print(p)\n",
    "    "
   ]
  },
  {
   "cell_type": "code",
   "execution_count": 103,
   "id": "e840a429",
   "metadata": {},
   "outputs": [
    {
     "data": {
      "text/plain": [
       "[3, 6, 7, 8]"
      ]
     },
     "execution_count": 103,
     "metadata": {},
     "output_type": "execute_result"
    }
   ],
   "source": [
    "ld"
   ]
  },
  {
   "cell_type": "code",
   "execution_count": 101,
   "id": "6a5e0d9c",
   "metadata": {},
   "outputs": [
    {
     "data": {
      "text/plain": [
       "[3, 6, 7, 8, 3, 6, 7, 8, 3, 6, 7, 8, 3, 6, 7, 8, 3, 6, 7, 8, 3, 6, 7, 8]"
      ]
     },
     "execution_count": 101,
     "metadata": {},
     "output_type": "execute_result"
    }
   ],
   "source": [
    "ld"
   ]
  },
  {
   "cell_type": "code",
   "execution_count": 77,
   "id": "48ddd814",
   "metadata": {},
   "outputs": [
    {
     "data": {
      "text/plain": [
       "[2, 3, 4, 5, 6, 3, 4, 5, 6, 7]"
      ]
     },
     "execution_count": 77,
     "metadata": {},
     "output_type": "execute_result"
    }
   ],
   "source": [
    "lt"
   ]
  },
  {
   "cell_type": "code",
   "execution_count": 78,
   "id": "fee20af0",
   "metadata": {},
   "outputs": [
    {
     "data": {
      "text/plain": [
       "[1, 2, 3, 4]"
      ]
     },
     "execution_count": 78,
     "metadata": {},
     "output_type": "execute_result"
    }
   ],
   "source": [
    "ll"
   ]
  },
  {
   "cell_type": "code",
   "execution_count": 79,
   "id": "476718ae",
   "metadata": {},
   "outputs": [
    {
     "data": {
      "text/plain": [
       "[[1, 2, 3, 4],\n",
       " (2, 3, 4, 5, 6),\n",
       " (3, 4, 5, 6, 7),\n",
       " {4, 5, 23, 45},\n",
       " {'k1': 'sudh', 'k2': 'ineuron', 'k3': 'kumar', 3: 6, 7: 8},\n",
       " ['ineuron', 'data science ']]"
      ]
     },
     "execution_count": 79,
     "metadata": {},
     "output_type": "execute_result"
    }
   ],
   "source": [
    "l"
   ]
  },
  {
   "cell_type": "code",
   "execution_count": 112,
   "id": "51d92cab",
   "metadata": {},
   "outputs": [
    {
     "name": "stdout",
     "output_type": "stream",
     "text": [
      "[1, 2, 3, 4, 2, 3, 4, 5, 6, 3, 4, 5, 6, 7, 45, 4, 5, 23, 3, 6, 7, 8, 'k1', 'sudh', 'k2', 'ineuron', 'k3', 'kumar', 'ineuron', 'data science ']"
     ]
    }
   ],
   "source": [
    "#q15 : Try to unwrape all the collection inside collection and create a flat list \n",
    "print(lo,end='')"
   ]
  },
  {
   "cell_type": "code",
   "execution_count": null,
   "id": "c5365e72",
   "metadata": {},
   "outputs": [],
   "source": []
  }
 ],
 "metadata": {
  "kernelspec": {
   "display_name": "Python 3 (ipykernel)",
   "language": "python",
   "name": "python3"
  },
  "language_info": {
   "codemirror_mode": {
    "name": "ipython",
    "version": 3
   },
   "file_extension": ".py",
   "mimetype": "text/x-python",
   "name": "python",
   "nbconvert_exporter": "python",
   "pygments_lexer": "ipython3",
   "version": "3.11.5"
  }
 },
 "nbformat": 4,
 "nbformat_minor": 5
}
