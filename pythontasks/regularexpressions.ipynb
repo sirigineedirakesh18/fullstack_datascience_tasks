{
 "cells": [
  {
   "cell_type": "code",
   "execution_count": 21,
   "metadata": {},
   "outputs": [
    {
     "name": "stdout",
     "output_type": "stream",
     "text": [
      "[2, 7, 8, 10, 17, 18, 30, 31, 34, 42, 46, 50, 52, 53, 56]\n"
     ]
    }
   ],
   "source": [
    "import random\n",
    "print(sorted(random.sample(range(1,59),15)))"
   ]
  },
  {
   "cell_type": "code",
   "execution_count": 28,
   "metadata": {},
   "outputs": [
    {
     "name": "stdout",
     "output_type": "stream",
     "text": [
      "['abbb', 'ab', 'abbb']\n"
     ]
    }
   ],
   "source": [
    "# Write a Python program that matches a string that has an a followed by zero or more b's.\n",
    "import re\n",
    "string='abbbchiabcccbabbb'\n",
    "pattern=re.compile(r'ab*')\n",
    "print(pattern.findall(string))"
   ]
  },
  {
   "cell_type": "code",
   "execution_count": 39,
   "metadata": {},
   "outputs": [
    {
     "name": "stdout",
     "output_type": "stream",
     "text": [
      "['b_c', 'e_f']\n"
     ]
    }
   ],
   "source": [
    "#Write a Python program to find sequences of lowercase letters joined by an underscore.\n",
    "string1='ab_cde_fgh'\n",
    "pattern=re.compile(r'[a-z]\\_[a-z]')\n",
    "print(pattern.findall(string1))"
   ]
  },
  {
   "cell_type": "code",
   "execution_count": 41,
   "metadata": {},
   "outputs": [
    {
     "name": "stdout",
     "output_type": "stream",
     "text": [
      "['Aa', 'Bb', 'Cc', 'Dd', 'Ee', 'Ff', 'Gg', 'Hh', 'Ii', 'Jj', 'Kk', 'Ll', 'Mm', 'Nn', 'Oo', 'Pp', 'Qq', 'Rr', 'Ss', 'Tt', 'Uu', 'Vv', 'Ww', 'Xx', 'Yy', 'Zz']\n"
     ]
    }
   ],
   "source": [
    "#8. Write a Python program to find the sequences of one upper case letter followed by lower case letters.\n",
    "string2='AaBbCcDdEeFfGgHhIiJjKkLlMmNnOoPpQqRrSsTtUuVvWwXxYyZz'\n",
    "pattern=re.compile(r'[A-Z][a-z]')\n",
    "print(pattern.findall(string2))\n"
   ]
  },
  {
   "cell_type": "code",
   "execution_count": 43,
   "metadata": {},
   "outputs": [
    {
     "name": "stdout",
     "output_type": "stream",
     "text": [
      "['abc']\n"
     ]
    }
   ],
   "source": [
    "#10. Write a Python program that matches a word at the beginning of a string.\n",
    "string3=\"abcd dfg abcdef\"\n",
    "pattern=re.compile(r'^abc')\n",
    "print(pattern.findall(string3))"
   ]
  },
  {
   "cell_type": "code",
   "execution_count": 44,
   "metadata": {},
   "outputs": [
    {
     "name": "stdout",
     "output_type": "stream",
     "text": [
      "['3']\n"
     ]
    }
   ],
   "source": [
    "#Write a Python program to check for a number at the end of a string.\n",
    "string4=\"abc123\"\n",
    "pattern=re.compile(r'\\d$')\n",
    "print(pattern.findall(string4))"
   ]
  },
  {
   "cell_type": "code",
   "execution_count": 51,
   "metadata": {},
   "outputs": [
    {
     "name": "stdout",
     "output_type": "stream",
     "text": [
      "134\n"
     ]
    }
   ],
   "source": [
    "#Write a Python program to search for numbers (0-9) of length between 1 and 3 in a given string.\n",
    "string5=\"njbj134\"\n",
    "pattern=re.compile(r\"[0-9]{1,3}\")\n",
    "print(pattern.search(string5).group())\n"
   ]
  },
  {
   "cell_type": "code",
   "execution_count": 52,
   "metadata": {},
   "outputs": [
    {
     "name": "stdout",
     "output_type": "stream",
     "text": [
      "21 Ramkrishna Rd.\n"
     ]
    }
   ],
   "source": [
    "#Write a Python program to abbreviate 'Road' as 'Rd.' in a given string.\n",
    "import re\n",
    "street = '21 Ramkrishna Road'\n",
    "print(re.sub('Road$', 'Rd.', street))"
   ]
  },
  {
   "cell_type": "code",
   "execution_count": 53,
   "metadata": {},
   "outputs": [
    {
     "name": "stdout",
     "output_type": "stream",
     "text": [
      "Python:Exercises::PHP:exercises:\n"
     ]
    }
   ],
   "source": [
    "#Write a Python program to replace all occurrences of a space, comma, or dot with a colon.\n",
    "import re\n",
    "text = \"Python Exercises, PHP exercises.\"\n",
    "print(re.sub(r'[ ,.]', ':', text))"
   ]
  },
  {
   "cell_type": "code",
   "execution_count": 68,
   "metadata": {},
   "outputs": [
    {
     "name": "stdout",
     "output_type": "stream",
     "text": [
      "['pytho', 'itis', 'mass']\n"
     ]
    }
   ],
   "source": [
    "#Write a Python program to find all three, four, and five character words in a string.\n",
    "import re\n",
    "text1=\"pytho is a progranning language itis mass\"\n",
    "abras=re.compile(r'\\b\\w{3,5}\\b')\n",
    "print(re.findall(abras,text1))"
   ]
  },
  {
   "cell_type": "code",
   "execution_count": 69,
   "metadata": {},
   "outputs": [
    {
     "name": "stdout",
     "output_type": "stream",
     "text": [
      "Original string:  <p>Contents :</p><a href=\"https://w3resource.com\">Python Examples</a><a href=\"http://github.com\">Even More Examples</a>\n",
      "Urls:  ['https://w3resource.com', 'http://github.com']\n"
     ]
    },
    {
     "name": "stderr",
     "output_type": "stream",
     "text": [
      "<>:3: SyntaxWarning: invalid escape sequence '\\('\n",
      "<>:3: SyntaxWarning: invalid escape sequence '\\('\n",
      "C:\\Users\\sirig\\AppData\\Local\\Temp\\ipykernel_4496\\4150671274.py:3: SyntaxWarning: invalid escape sequence '\\('\n",
      "  urls = re.findall('http[s]?://(?:[a-zA-Z]|[0-9]|[$-_@.&+]|[!*\\(\\),]|(?:%[0-9a-fA-F][0-9a-fA-F]))+', text)\n"
     ]
    }
   ],
   "source": [
    "import re\n",
    "text = '<p>Contents :</p><a href=\"https://w3resource.com\">Python Examples</a><a href=\"http://github.com\">Even More Examples</a>'\n",
    "urls = re.findall('http[s]?://(?:[a-zA-Z]|[0-9]|[$-_@.&+]|[!*\\(\\),]|(?:%[0-9a-fA-F][0-9a-fA-F]))+', text)\n",
    "print(\"Original string: \",text)\n",
    "print(\"Urls: \",urls)"
   ]
  },
  {
   "cell_type": "code",
   "execution_count": 70,
   "metadata": {},
   "outputs": [
    {
     "name": "stdout",
     "output_type": "stream",
     "text": [
      "0-7: Clearly\n"
     ]
    }
   ],
   "source": [
    "import re\n",
    "text = \"Clearly, he has no excuse for such behavior.\"\n",
    "for m in re.finditer(r\"\\w+ly\", text):\n",
    "    print('%d-%d: %s' % (m.start(), m.end(), m.group(0)))"
   ]
  },
  {
   "cell_type": "code",
   "execution_count": null,
   "metadata": {},
   "outputs": [
    {
     "name": "stdout",
     "output_type": "stream",
     "text": [
      "[2, 7, 8, 10, 17, 18, 30, 31, 34, 42, 46, 50, 52, 53, 56]\n"
     ]
    }
   ],
   "source": [
    "import random\n",
    "print(sorted(random.sample(range(1,59),15)))"
   ]
  },
  {
   "cell_type": "code",
   "execution_count": 71,
   "metadata": {},
   "outputs": [
    {
     "name": "stdout",
     "output_type": "stream",
     "text": [
      "example\n",
      "w3resource\n",
      "github\n",
      "stackoverflow\n"
     ]
    }
   ],
   "source": [
    "import re\n",
    "items = [\"example (.com)\", \"w3resource\", \"github (.com)\", \"stackoverflow (.com)\"]\n",
    "for item in items:\n",
    "    print(re.sub(r\" ?\\([^)]+\\)\", \"\", item))"
   ]
  },
  {
   "cell_type": "code",
   "execution_count": 72,
   "metadata": {},
   "outputs": [
    {
     "name": "stdout",
     "output_type": "stream",
     "text": [
      "Orange\n",
      "[1, 2, 3, 4, 5]\n",
      "Java\n",
      "Python\n"
     ]
    }
   ],
   "source": [
    "def longest_item(*args):\n",
    "  return max(args, key = len)\n",
    " \n",
    "print(longest_item('Red', 'Green', 'Black', 'Orange'))\n",
    "print(longest_item([1, 2, 3], [1, 2, 3, 4], [1, 2, 3, 4, 5]))\n",
    "print(longest_item([1, 2, 3], 'Java'))\n",
    "print(longest_item({10, 100}, 'Python'))"
   ]
  },
  {
   "cell_type": "code",
   "execution_count": 73,
   "metadata": {},
   "outputs": [
    {
     "name": "stdout",
     "output_type": "stream",
     "text": [
      "P E, PHP .\n"
     ]
    }
   ],
   "source": [
    " #Write a Python program to remove lowercase substrings from a given string.\n",
    "import re\n",
    "text = \"Python Exercises, PHP exercises.\"\n",
    "pattern= re.sub(r'[a-z]','',text)\n",
    "print(pattern)"
   ]
  },
  {
   "cell_type": "code",
   "execution_count": null,
   "metadata": {},
   "outputs": [],
   "source": []
  }
 ],
 "metadata": {
  "kernelspec": {
   "display_name": "Python 3",
   "language": "python",
   "name": "python3"
  },
  "language_info": {
   "codemirror_mode": {
    "name": "ipython",
    "version": 3
   },
   "file_extension": ".py",
   "mimetype": "text/x-python",
   "name": "python",
   "nbconvert_exporter": "python",
   "pygments_lexer": "ipython3",
   "version": "3.13.1"
  }
 },
 "nbformat": 4,
 "nbformat_minor": 2
}
